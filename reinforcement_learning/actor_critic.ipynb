{
  "nbformat": 4,
  "nbformat_minor": 0,
  "metadata": {
    "colab": {
      "name": "actor_critic.ipynb",
      "provenance": [],
      "collapsed_sections": [
        "_jQ1tEQCxwRx"
      ],
      "toc_visible": true,
      "include_colab_link": true
    },
    "kernelspec": {
      "display_name": "Python 3",
      "name": "python3"
    }
  },
  "cells": [
    {
      "cell_type": "markdown",
      "metadata": {
        "id": "view-in-github",
        "colab_type": "text"
      },
      "source": [
        "<a href=\"https://colab.research.google.com/github/gurevichan/Colab/blob/ReinforcementLearning/reinforcement_learning/actor_critic.ipynb\" target=\"_parent\"><img src=\"https://colab.research.google.com/assets/colab-badge.svg\" alt=\"Open In Colab\"/></a>"
      ]
    },
    {
      "cell_type": "markdown",
      "metadata": {
        "id": "_jQ1tEQCxwRx"
      },
      "source": [
        "##### Copyright 2020 The TensorFlow Authors."
      ]
    },
    {
      "cell_type": "code",
      "metadata": {
        "cellView": "form",
        "id": "V_sgB_5dx1f1"
      },
      "source": [
        "#@title Licensed under the Apache License, Version 2.0 (the \"License\");\n",
        "# you may not use this file except in compliance with the License.\n",
        "# You may obtain a copy of the License at\n",
        "#\n",
        "# https://www.apache.org/licenses/LICENSE-2.0\n",
        "#\n",
        "# Unless required by applicable law or agreed to in writing, software\n",
        "# distributed under the License is distributed on an \"AS IS\" BASIS,\n",
        "# WITHOUT WARRANTIES OR CONDITIONS OF ANY KIND, either express or implied.\n",
        "# See the License for the specific language governing permissions and\n",
        "# limitations under the License."
      ],
      "execution_count": null,
      "outputs": []
    },
    {
      "cell_type": "markdown",
      "metadata": {
        "id": "p62G8M_viUJp"
      },
      "source": [
        "# Playing CartPole with the Actor-Critic Method\n"
      ]
    },
    {
      "cell_type": "markdown",
      "metadata": {
        "id": "-mJ2i6jvZ3sK"
      },
      "source": [
        "<table class=\"tfo-notebook-buttons\" align=\"left\">\n",
        "  <td>\n",
        "    <a target=\"_blank\" href=\"https://www.tensorflow.org/tutorials/reinforcement_learning/actor_critic\">\n",
        "    <img src=\"https://www.tensorflow.org/images/tf_logo_32px.png\" />\n",
        "    View on TensorFlow.org</a>\n",
        "  </td>\n",
        "  <td>\n",
        "    <a target=\"_blank\" href=\"https://colab.research.google.com/github/tensorflow/docs/blob/master/site/en/tutorials/reinforcement_learning/actor_critic.ipynb\">\n",
        "    <img src=\"https://www.tensorflow.org/images/colab_logo_32px.png\" />\n",
        "    Run in Google Colab</a>\n",
        "  </td>\n",
        "  <td>\n",
        "    <a target=\"_blank\" href=\"https://github.com/tensorflow/docs/blob/master/site/en/tutorials/reinforcement_learning/actor_critic.ipynb\">\n",
        "    <img src=\"https://www.tensorflow.org/images/GitHub-Mark-32px.png\" />\n",
        "    View source on GitHub</a>\n",
        "  </td>\n",
        "  <td>\n",
        "    <a href=\"https://storage.googleapis.com/tensorflow_docs/docs/site/en/tutorials/reinforcement_learning/actor_critic.ipynb\"><img src=\"https://www.tensorflow.org/images/download_logo_32px.png\" />Download notebook</a>\n",
        "  </td>\n",
        "</table>"
      ]
    },
    {
      "cell_type": "markdown",
      "metadata": {
        "id": "kFgN7h_wiUJq"
      },
      "source": [
        "This tutorial demonstrates how to implement the [Actor-Critic](https://papers.nips.cc/paper/1786-actor-critic-algorithms.pdf) method using TensorFlow to train an agent on the [Open AI Gym](https://gym.openai.com/) CartPole-V0 environment.\n",
        "The reader is assumed to have some familiarity with [policy gradient methods](https://papers.nips.cc/paper/1713-policy-gradient-methods-for-reinforcement-learning-with-function-approximation.pdf) of reinforcement learning. \n"
      ]
    },
    {
      "cell_type": "markdown",
      "metadata": {
        "id": "_kA10ZKRR0hi"
      },
      "source": [
        "**Actor-Critic methods**\n",
        "\n",
        "Actor-Critic methods are [temporal difference (TD) learning](https://en.wikipedia.org/wiki/Temporal_difference_learning) methods that represent the policy function independent of the value function. \n",
        "\n",
        "A policy function (or policy) returns a probability distribution over actions that the agent can take based on the given state.\n",
        "A value function determines the expected return for an agent starting at a given state and acting according to a particular policy forever after.\n",
        "\n",
        "In the Actor-Critic method, the policy is referred to as the *actor* that proposes a set of possible actions given a state, and the estimated value function is referred to as the *critic*, which evaluates actions taken by the *actor* based on the given policy.\n",
        "\n",
        "In this tutorial, both the *Actor* and *Critic* will be represented using one neural network with two outputs.\n"
      ]
    },
    {
      "cell_type": "markdown",
      "metadata": {
        "id": "rBfiafKSRs2k"
      },
      "source": [
        "**CartPole-v0**\n",
        "\n",
        "In the [CartPole-v0 environment](https://gym.openai.com/envs/CartPole-v0), a pole is attached to a cart moving along a frictionless track. \n",
        "The pole starts upright and the goal of the agent is to prevent it from falling over by applying a force of -1 or +1 to the cart. \n",
        "A reward of +1 is given for every time step the pole remains upright.\n",
        "An episode ends when (1) the pole is more than 15 degrees from vertical or (2) the cart moves more than 2.4 units from the center.\n",
        "\n",
        "<center>\n",
        "  <figure>\n",
        "    <image src=\"https://github.com/tensorflow/docs/blob/master/site/en/tutorials/reinforcement_learning/images/cartpole-v0.gif?raw=1\">\n",
        "    <figcaption>\n",
        "      Trained actor-critic model in Cartpole-v0 environment\n",
        "    </figcaption>\n",
        "  </figure>\n",
        "</center>\n"
      ]
    },
    {
      "cell_type": "markdown",
      "metadata": {
        "id": "XSNVK0AeRoJd"
      },
      "source": [
        "The problem is considered \"solved\" when the average total reward for the episode reaches 195 over 100 consecutive trials."
      ]
    },
    {
      "cell_type": "markdown",
      "metadata": {
        "id": "glLwIctHiUJq"
      },
      "source": [
        "## Setup\n",
        "\n",
        "Import necessary packages and configure global settings.\n"
      ]
    },
    {
      "cell_type": "code",
      "metadata": {
        "id": "13l6BbxKhCKp",
        "outputId": "ba5dd679-39fa-47f9-a193-35083fc5cd53",
        "colab": {
          "base_uri": "https://localhost:8080/"
        }
      },
      "source": [
        "!pip install gym"
      ],
      "execution_count": 1,
      "outputs": [
        {
          "output_type": "stream",
          "text": [
            "Requirement already satisfied: gym in /usr/local/lib/python3.7/dist-packages (0.17.3)\n",
            "Requirement already satisfied: cloudpickle<1.7.0,>=1.2.0 in /usr/local/lib/python3.7/dist-packages (from gym) (1.3.0)\n",
            "Requirement already satisfied: numpy>=1.10.4 in /usr/local/lib/python3.7/dist-packages (from gym) (1.19.5)\n",
            "Requirement already satisfied: pyglet<=1.5.0,>=1.4.0 in /usr/local/lib/python3.7/dist-packages (from gym) (1.5.0)\n",
            "Requirement already satisfied: scipy in /usr/local/lib/python3.7/dist-packages (from gym) (1.4.1)\n",
            "Requirement already satisfied: future in /usr/local/lib/python3.7/dist-packages (from pyglet<=1.5.0,>=1.4.0->gym) (0.16.0)\n"
          ],
          "name": "stdout"
        }
      ]
    },
    {
      "cell_type": "code",
      "metadata": {
        "id": "WBeQhPi2S4m5"
      },
      "source": [
        "%%bash\n",
        "# Install additional packages for visualization\n",
        "sudo apt-get install -y xvfb python-opengl > /dev/null 2>&1\n",
        "pip install pyvirtualdisplay > /dev/null 2>&1\n",
        "pip install git+https://github.com/tensorflow/docs > /dev/null 2>&1"
      ],
      "execution_count": 2,
      "outputs": []
    },
    {
      "cell_type": "code",
      "metadata": {
        "id": "tT4N3qYviUJr"
      },
      "source": [
        "import collections\n",
        "import gym\n",
        "import numpy as np\n",
        "import statistics\n",
        "import tensorflow as tf\n",
        "import tqdm\n",
        "\n",
        "from matplotlib import pyplot as plt\n",
        "from tensorflow.keras import layers\n",
        "from typing import Any, List, Sequence, Tuple\n",
        "\n",
        "\n",
        "# Create the environment\n",
        "env = gym.make(\"CartPole-v0\")\n",
        "\n",
        "# Set seed for experiment reproducibility\n",
        "seed = 42\n",
        "env.seed(seed)\n",
        "tf.random.set_seed(seed)\n",
        "np.random.seed(seed)\n",
        "\n",
        "# Small epsilon value for stabilizing division operations\n",
        "eps = np.finfo(np.float32).eps.item()"
      ],
      "execution_count": 3,
      "outputs": []
    },
    {
      "cell_type": "markdown",
      "metadata": {
        "id": "AOUCe2D0iUJu"
      },
      "source": [
        "## Model\n",
        "\n",
        "The *Actor* and *Critic* will be modeled using one neural network that generates the action probabilities and critic value respectively. This tutorial uses model subclassing to define the model. \n",
        "\n",
        "During the forward pass, the model will take in the state as the input and will output both action probabilities and critic value $V$, which models the state-dependent [value function](https://spinningup.openai.com/en/latest/spinningup/rl_intro.html#value-functions). The goal is to train a model that chooses actions based on a policy $\\pi$ that maximizes expected [return](https://spinningup.openai.com/en/latest/spinningup/rl_intro.html#reward-and-return).\n",
        "\n",
        "For Cartpole-v0, there are four values representing the state: cart position, cart-velocity, pole angle and pole velocity respectively. The agent can take two actions to push the cart left (0) and right (1) respectively.\n",
        "\n",
        "Refer to [OpenAI Gym's CartPole-v0 wiki page](http://www.derongliu.org/adp/adp-cdrom/Barto1983.pdf) for more information.\n"
      ]
    },
    {
      "cell_type": "code",
      "metadata": {
        "id": "aXKbbMC-kmuv"
      },
      "source": [
        "class ActorCritic(tf.keras.Model):\n",
        "  \"\"\"Combined actor-critic network.\"\"\"\n",
        "\n",
        "  def __init__(\n",
        "      self, \n",
        "      num_actions: int, \n",
        "      num_hidden_units: int):\n",
        "    \"\"\"Initialize.\"\"\"\n",
        "    super().__init__()\n",
        "\n",
        "    self.common = layers.Dense(num_hidden_units, activation=\"relu\")\n",
        "    self.actor = layers.Dense(num_actions)\n",
        "    self.critic = layers.Dense(1)\n",
        "\n",
        "  def call(self, inputs: tf.Tensor) -> Tuple[tf.Tensor, tf.Tensor]:\n",
        "    x = self.common(inputs)\n",
        "    return self.actor(x), self.critic(x)"
      ],
      "execution_count": 4,
      "outputs": []
    },
    {
      "cell_type": "code",
      "metadata": {
        "id": "nWyxJgjLn68c"
      },
      "source": [
        "num_actions = env.action_space.n  # 2\n",
        "num_hidden_units = 128\n",
        "\n",
        "model = ActorCritic(num_actions, num_hidden_units)"
      ],
      "execution_count": 6,
      "outputs": []
    },
    {
      "cell_type": "markdown",
      "metadata": {
        "id": "hk92njFziUJw"
      },
      "source": [
        "## Training\n",
        "\n",
        "To train the agent, you will follow these steps:\n",
        "\n",
        "1. Run the agent on the environment to collect training data per episode.\n",
        "2. Compute expected return at each time step.\n",
        "3. Compute the loss for the combined actor-critic model.\n",
        "4. Compute gradients and update network parameters.\n",
        "5. Repeat 1-4 until either success criterion or max episodes has been reached.\n"
      ]
    },
    {
      "cell_type": "markdown",
      "metadata": {
        "id": "R2nde2XDs8Gh"
      },
      "source": [
        "### 1. Collecting training data\n",
        "\n",
        "As in supervised learning, in order to train the actor-critic model, you need\n",
        "to have training data. However, in order to collect such data, the model would\n",
        "need to be \"run\" in the environment.\n",
        "\n",
        "Training data is collected for each episode. Then at each time step, the model's forward pass will be run on the environment's state in order to generate action probabilities and the critic value based on the current policy parameterized by the model's weights.\n",
        "\n",
        "The next action will be sampled from the action probabilities generated by the model, which would then be applied to the environment, causing the next state and reward to be generated.\n",
        "\n",
        "This process is implemented in the `run_episode` function, which uses TensorFlow operations so that it can later be compiled into a TensorFlow graph for faster training. Note that `tf.TensorArray`s were used to support Tensor iteration on variable length arrays."
      ]
    },
    {
      "cell_type": "code",
      "metadata": {
        "id": "5URrbGlDSAGx"
      },
      "source": [
        "# Wrap OpenAI Gym's `env.step` call as an operation in a TensorFlow function.\n",
        "# This would allow it to be included in a callable TensorFlow graph.\n",
        "\n",
        "def env_step(action: np.ndarray) -> Tuple[np.ndarray, np.ndarray, np.ndarray]:\n",
        "  \"\"\"Returns state, reward and done flag given an action.\"\"\"\n",
        "\n",
        "  state, reward, done, _ = env.step(action)\n",
        "  return (state.astype(np.float32), \n",
        "          np.array(reward, np.int32), \n",
        "          np.array(done, np.int32))\n",
        "\n",
        "\n",
        "def tf_env_step(action: tf.Tensor) -> List[tf.Tensor]:\n",
        "  return tf.numpy_function(env_step, [action], \n",
        "                           [tf.float32, tf.int32, tf.int32])"
      ],
      "execution_count": 7,
      "outputs": []
    },
    {
      "cell_type": "code",
      "metadata": {
        "id": "a4qVRV063Cl9"
      },
      "source": [
        "def run_episode(\n",
        "    initial_state: tf.Tensor,  \n",
        "    model: tf.keras.Model, \n",
        "    max_steps: int) -> Tuple[tf.Tensor, tf.Tensor, tf.Tensor]:\n",
        "  \"\"\"Runs a single episode to collect training data.\"\"\"\n",
        "\n",
        "  action_probs = tf.TensorArray(dtype=tf.float32, size=0, dynamic_size=True)\n",
        "  values = tf.TensorArray(dtype=tf.float32, size=0, dynamic_size=True)\n",
        "  rewards = tf.TensorArray(dtype=tf.int32, size=0, dynamic_size=True)\n",
        "\n",
        "  initial_state_shape = initial_state.shape\n",
        "  state = initial_state\n",
        "\n",
        "  for t in tf.range(max_steps):\n",
        "    # Convert state into a batched tensor (batch size = 1)\n",
        "    state = tf.expand_dims(state, 0)\n",
        "  \n",
        "    # Run the model and to get action probabilities and critic value\n",
        "    action_logits_t, value = model(state)\n",
        "  \n",
        "    # Sample next action from the action probability distribution\n",
        "    action = tf.random.categorical(action_logits_t, 1)[0, 0]\n",
        "    action_probs_t = tf.nn.softmax(action_logits_t)\n",
        "\n",
        "    # Store critic values\n",
        "    values = values.write(t, tf.squeeze(value))\n",
        "\n",
        "    # Store log probability of the action chosen\n",
        "    action_probs = action_probs.write(t, action_probs_t[0, action])\n",
        "  \n",
        "    # Apply action to the environment to get next state and reward\n",
        "    state, reward, done = tf_env_step(action)\n",
        "    state.set_shape(initial_state_shape)\n",
        "  \n",
        "    # Store reward\n",
        "    rewards = rewards.write(t, reward)\n",
        "\n",
        "    if tf.cast(done, tf.bool):\n",
        "      break\n",
        "\n",
        "  action_probs = action_probs.stack()\n",
        "  values = values.stack()\n",
        "  rewards = rewards.stack()\n",
        "  \n",
        "  return action_probs, values, rewards"
      ],
      "execution_count": 8,
      "outputs": []
    },
    {
      "cell_type": "markdown",
      "metadata": {
        "id": "lBnIHdz22dIx"
      },
      "source": [
        "### 2. Computing expected returns\n",
        "\n",
        "The sequence of rewards for each timestep $t$, $\\{r_{t}\\}^{T}_{t=1}$ collected during one episode is converted into a sequence of expected returns $\\{G_{t}\\}^{T}_{t=1}$ in which the sum of rewards is taken from the current timestep $t$ to $T$ and each reward is multiplied with an exponentially decaying discount factor $\\gamma$:\n",
        "\n",
        "$$G_{t} = \\sum^{T}_{t'=t} \\gamma^{t'-t}r_{t'}$$\n",
        "\n",
        "Since $\\gamma\\in(0,1)$, rewards further out from the current timestep are given less weight.\n",
        "\n",
        "Intuitively, expected return simply implies that rewards now are better than rewards later. In a mathematical sense, it is to ensure that the sum of the rewards converges.\n",
        "\n",
        "To stabilize training, the resulting sequence of returns is also standardized (i.e. to have zero mean and unit standard deviation).\n"
      ]
    },
    {
      "cell_type": "code",
      "metadata": {
        "id": "jpEwFyl315dl"
      },
      "source": [
        "def get_expected_return(\n",
        "    rewards: tf.Tensor, \n",
        "    gamma: float, \n",
        "    standardize: bool = True) -> tf.Tensor:\n",
        "  \"\"\"Compute expected returns per timestep.\"\"\"\n",
        "\n",
        "  n = tf.shape(rewards)[0]\n",
        "  returns = tf.TensorArray(dtype=tf.float32, size=n)\n",
        "\n",
        "  # Start from the end of `rewards` and accumulate reward sums\n",
        "  # into the `returns` array\n",
        "  rewards = tf.cast(rewards[::-1], dtype=tf.float32)\n",
        "  discounted_sum = tf.constant(0.0)\n",
        "  discounted_sum_shape = discounted_sum.shape\n",
        "  for i in tf.range(n):\n",
        "    reward = rewards[i]\n",
        "    discounted_sum = reward + gamma * discounted_sum\n",
        "    discounted_sum.set_shape(discounted_sum_shape)\n",
        "    returns = returns.write(i, discounted_sum)\n",
        "  returns = returns.stack()[::-1]\n",
        "\n",
        "  if standardize:\n",
        "    returns = ((returns - tf.math.reduce_mean(returns)) / \n",
        "               (tf.math.reduce_std(returns) + eps))\n",
        "\n",
        "  return returns"
      ],
      "execution_count": 9,
      "outputs": []
    },
    {
      "cell_type": "markdown",
      "metadata": {
        "id": "1hrPLrgGxlvb"
      },
      "source": [
        "### 3. The actor-critic loss\n",
        "\n",
        "Since a hybrid actor-critic model is used, the chosen loss function is a combination of actor and critic losses for training, as shown below:\n",
        "\n",
        "$$L = L_{actor} + L_{critic}$$\n",
        "\n",
        "#### Actor loss\n",
        "\n",
        "The actor loss is based on [policy gradients with the critic as a state dependent baseline](https://www.youtube.com/watch?v=EKqxumCuAAY&t=62m23s) and computed with single-sample (per-episode) estimates.\n",
        "\n",
        "$$L_{actor} = -\\sum^{T}_{t=1} log\\pi_{\\theta}(a_{t} | s_{t})[G(s_{t}, a_{t})  - V^{\\pi}_{\\theta}(s_{t})]$$\n",
        "\n",
        "where:\n",
        "- $T$: the number of timesteps per episode, which can vary per episode\n",
        "- $s_{t}$: the state at timestep $t$\n",
        "- $a_{t}$: chosen action at timestep $t$ given state $s$\n",
        "- $\\pi_{\\theta}$: is the policy (actor) parameterized by $\\theta$\n",
        "- $V^{\\pi}_{\\theta}$: is the value function (critic) also parameterized by $\\theta$\n",
        "- $G = G_{t}$: the expected return for a given state, action pair at timestep $t$\n",
        "\n",
        "A negative term is added to the sum since the idea is to maximize the probabilities of actions yielding higher rewards by minimizing the combined loss.\n",
        "\n",
        "<br>\n",
        "\n",
        "##### Advantage\n",
        "\n",
        "The $G - V$ term in our $L_{actor}$ formulation is called the [advantage](https://spinningup.openai.com/en/latest/spinningup/rl_intro.html#advantage-functions), which indicates how much better an action is given a particular state over a random action selected according to the policy $\\pi$ for that state.\n",
        "\n",
        "While it's possible to exclude a baseline, this may result in high variance during training. And the nice thing about choosing the critic $V$ as a baseline is that it trained to be as close as possible to $G$, leading to a lower variance.\n",
        "\n",
        "In addition, without the critic, the algorithm would try to increase probabilities for actions taken on a particular state based on expected return, which may not make much of a difference if the relative probabilities between actions remain the same.\n",
        "\n",
        "For instance, suppose that two actions for a given state would yield the same expected return. Without the critic, the algorithm would try to raise the probability of these actions based on the objective $J$. With the critic, it may turn out that there's no advantage ($G - V = 0$) and thus no benefit gained in increasing the actions' probabilities and the algorithm would set the gradients to zero.\n",
        "\n",
        "<br>\n",
        "\n",
        "#### Critic loss\n",
        "\n",
        "Training $V$ to be as close possible to $G$ can be set up as a regression problem with the following loss function:\n",
        "\n",
        "$$L_{critic} = L_{\\delta}(G, V^{\\pi}_{\\theta})$$\n",
        "\n",
        "where $L_{\\delta}$ is the [Huber loss](https://en.wikipedia.org/wiki/Huber_loss), which is less sensitive to outliers in data than squared-error loss.\n"
      ]
    },
    {
      "cell_type": "code",
      "metadata": {
        "id": "9EXwbEez6n9m"
      },
      "source": [
        "huber_loss = tf.keras.losses.Huber(reduction=tf.keras.losses.Reduction.SUM)\n",
        "\n",
        "def compute_loss(\n",
        "    action_probs: tf.Tensor,  \n",
        "    values: tf.Tensor,  \n",
        "    returns: tf.Tensor) -> tf.Tensor:\n",
        "  \"\"\"Computes the combined actor-critic loss.\"\"\"\n",
        "\n",
        "  advantage = returns - values\n",
        "\n",
        "  action_log_probs = tf.math.log(action_probs)\n",
        "  actor_loss = -tf.math.reduce_sum(action_log_probs * advantage)\n",
        "\n",
        "  critic_loss = huber_loss(values, returns)\n",
        "\n",
        "  return actor_loss + critic_loss"
      ],
      "execution_count": 10,
      "outputs": []
    },
    {
      "cell_type": "markdown",
      "metadata": {
        "id": "HSYkQOmRfV75"
      },
      "source": [
        "### 4. Defining the training step to update parameters\n",
        "\n",
        "All of the steps above are combined into a training step that is run every episode. All steps leading up to the loss function are executed with the `tf.GradientTape` context to enable automatic differentiation.\n",
        "\n",
        "This tutorial uses the Adam optimizer to apply the gradients to the model parameters.\n",
        "\n",
        "The sum of the undiscounted rewards, `episode_reward`, is also computed in this step. This value will be used later on to evaluate if the success criterion is met.\n",
        "\n",
        "The `tf.function` context is applied to the `train_step` function so that it can be compiled into a callable TensorFlow graph, which can lead to 10x speedup in training.\n"
      ]
    },
    {
      "cell_type": "code",
      "metadata": {
        "id": "QoccrkF3IFCg"
      },
      "source": [
        "optimizer = tf.keras.optimizers.Adam(learning_rate=0.01)\n",
        "\n",
        "\n",
        "@tf.function\n",
        "def train_step(\n",
        "    initial_state: tf.Tensor, \n",
        "    model: tf.keras.Model, \n",
        "    optimizer: tf.keras.optimizers.Optimizer, \n",
        "    gamma: float, \n",
        "    max_steps_per_episode: int) -> tf.Tensor:\n",
        "  \"\"\"Runs a model training step.\"\"\"\n",
        "\n",
        "  with tf.GradientTape() as tape:\n",
        "\n",
        "    # Run the model for one episode to collect training data\n",
        "    action_probs, values, rewards = run_episode(\n",
        "        initial_state, model, max_steps_per_episode) \n",
        "\n",
        "    # Calculate expected returns\n",
        "    returns = get_expected_return(rewards, gamma)\n",
        "\n",
        "    # Convert training data to appropriate TF tensor shapes\n",
        "    action_probs, values, returns = [\n",
        "        tf.expand_dims(x, 1) for x in [action_probs, values, returns]] \n",
        "\n",
        "    # Calculating loss values to update our network\n",
        "    loss = compute_loss(action_probs, values, returns)\n",
        "\n",
        "  # Compute the gradients from the loss\n",
        "  grads = tape.gradient(loss, model.trainable_variables)\n",
        "\n",
        "  # Apply the gradients to the model's parameters\n",
        "  optimizer.apply_gradients(zip(grads, model.trainable_variables))\n",
        "\n",
        "  episode_reward = tf.math.reduce_sum(rewards)\n",
        "\n",
        "  return episode_reward"
      ],
      "execution_count": 11,
      "outputs": []
    },
    {
      "cell_type": "markdown",
      "metadata": {
        "id": "HFvZiDoAflGK"
      },
      "source": [
        "### 5. Run the training loop\n",
        "\n",
        "Training is executed by running the training step until either the success criterion or maximum number of episodes is reached.  \n",
        "\n",
        "A running record of episode rewards is kept in a queue. Once 100 trials are reached, the oldest reward is removed at the left (tail) end of the queue and the newest one is added at the head (right). A running sum of the rewards is also maintained for computational efficiency. \n",
        "\n",
        "Depending on your runtime, training can finish in less than a minute."
      ]
    },
    {
      "cell_type": "code",
      "metadata": {
        "id": "kbmBxnzLiUJx",
        "outputId": "728ee14f-20e2-4568-8b2a-73954f95b2c3",
        "colab": {
          "base_uri": "https://localhost:8080/"
        }
      },
      "source": [
        "%%time\n",
        "%xmode Plain\n",
        "%pdb on\n",
        "\n",
        "min_episodes_criterion = 100\n",
        "max_episodes = 1000\n",
        "max_steps_per_episode = 1000\n",
        "\n",
        "# Cartpole-v0 is considered solved if average reward is >= 195 over 100 \n",
        "# consecutive trials\n",
        "reward_threshold = 500\n",
        "running_reward = 0\n",
        "\n",
        "# Discount factor for future rewards\n",
        "gamma = 0.99\n",
        "\n",
        "# Keep last episodes reward\n",
        "episodes_reward: collections.deque = collections.deque(maxlen=min_episodes_criterion)\n",
        "\n",
        "with tqdm.trange(max_episodes) as t:\n",
        "  for i in t:\n",
        "    initial_state = tf.constant(env.reset(), dtype=tf.float32)\n",
        "    episode_reward = int(train_step(\n",
        "        initial_state, model, optimizer, gamma, max_steps_per_episode))\n",
        "    \n",
        "    episodes_reward.append(episode_reward)\n",
        "    running_reward = statistics.mean(episodes_reward)\n",
        "  \n",
        "    t.set_description(f'Episode {i}')\n",
        "    t.set_postfix(\n",
        "        episode_reward=episode_reward, running_reward=running_reward)\n",
        "  \n",
        "    # Show average episode reward every 10 episodes\n",
        "    if i % 10 == 0:\n",
        "      pass # print(f'Episode {i}: average reward: {avg_reward}')\n",
        "  \n",
        "    if running_reward > reward_threshold and i >= min_episodes_criterion:  \n",
        "        break\n",
        "\n",
        "print(f'\\nSolved at episode {i}: average reward: {running_reward:.2f}!')"
      ],
      "execution_count": 38,
      "outputs": [
        {
          "output_type": "stream",
          "text": [
            "Episode 1:   0%|          | 2/1000 [00:00<01:32, 10.79it/s, episode_reward=200, running_reward=200]"
          ],
          "name": "stderr"
        },
        {
          "output_type": "stream",
          "text": [
            "Exception reporting mode: Plain\n",
            "Automatic pdb calling has been turned ON\n"
          ],
          "name": "stdout"
        },
        {
          "output_type": "stream",
          "text": [
            "Episode 999: 100%|██████████| 1000/1000 [01:23<00:00, 11.92it/s, episode_reward=171, running_reward=195]"
          ],
          "name": "stderr"
        },
        {
          "output_type": "stream",
          "text": [
            "\n",
            "Solved at episode 999: average reward: 195.10!\n",
            "CPU times: user 1min 53s, sys: 4.84 s, total: 1min 58s\n",
            "Wall time: 1min 23s\n"
          ],
          "name": "stdout"
        },
        {
          "output_type": "stream",
          "text": [
            "\n"
          ],
          "name": "stderr"
        }
      ]
    },
    {
      "cell_type": "markdown",
      "metadata": {
        "id": "ru8BEwS1EmAv"
      },
      "source": [
        "## Visualization\n",
        "\n",
        "After training, it would be good to visualize how the model performs in the environment. You can run the cells below to generate a GIF animation of one episode run of the model. Note that additional packages need to be installed for OpenAI Gym to render the environment's images correctly in Colab."
      ]
    },
    {
      "cell_type": "code",
      "metadata": {
        "id": "qbIMMkfmRHyC"
      },
      "source": [
        "# Render an episode and save as a GIF file\n",
        "\n",
        "from IPython import display as ipythondisplay\n",
        "from PIL import Image\n",
        "from pyvirtualdisplay import Display\n",
        "\n",
        "\n",
        "display = Display(visible=0, size=(400, 300))\n",
        "display.start()\n",
        "\n",
        "\n",
        "def render_episode(env: gym.Env, model: tf.keras.Model, max_steps: int): \n",
        "  screen = env.render(mode='rgb_array')\n",
        "  im = Image.fromarray(screen)\n",
        "  max_steps=10000\n",
        "\n",
        "  images = [im]\n",
        "  \n",
        "  state = tf.constant(env.reset(), dtype=tf.float32)\n",
        "  for i in range(1, max_steps + 1):\n",
        "    state = tf.expand_dims(state, 0)\n",
        "    action_probs, _ = model(state)\n",
        "    action = np.argmax(np.squeeze(action_probs))\n",
        "\n",
        "    state, _, done, _ = env.step(action)\n",
        "    state = tf.constant(state, dtype=tf.float32)\n",
        "\n",
        "    # Render screen every 10 steps\n",
        "    if i % 10 == 0:\n",
        "      screen = env.render(mode='rgb_array')\n",
        "      images.append(Image.fromarray(screen))\n",
        "    if done:\n",
        "      break\n",
        "  \n",
        "  return images\n",
        "\n",
        "max_steps_per_episode = 1000000\n",
        "# Save GIF image\n",
        "images = render_episode(env, model, max_steps_per_episode)\n",
        "image_file = 'cartpole-v0.gif'\n",
        "# loop=0: loop forever, duration=1: play each frame for 1ms\n",
        "images[0].save(\n",
        "    image_file, save_all=True, append_images=images[1:], loop=0, duration=1)"
      ],
      "execution_count": 35,
      "outputs": []
    },
    {
      "cell_type": "code",
      "metadata": {
        "id": "KS3q_4XZbteI",
        "outputId": "c26e5afd-1957-452d-a210-c48458c487fd",
        "colab": {
          "base_uri": "https://localhost:8080/"
        }
      },
      "source": [
        "len(images)"
      ],
      "execution_count": 33,
      "outputs": [
        {
          "output_type": "execute_result",
          "data": {
            "text/plain": [
              "21"
            ]
          },
          "metadata": {
            "tags": []
          },
          "execution_count": 33
        }
      ]
    },
    {
      "cell_type": "code",
      "metadata": {
        "id": "TLd720SejKmf",
        "outputId": "6ded8051-84a3-4256-ac83-2f01c2726762",
        "colab": {
          "base_uri": "https://localhost:8080/",
          "height": 421
        }
      },
      "source": [
        "import tensorflow_docs.vis.embed as embed\n",
        "embed.embed_file(image_file)"
      ],
      "execution_count": 36,
      "outputs": [
        {
          "output_type": "execute_result",
          "data": {
            "text/html": [
              "<img src=\"data:image/gif;base64,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\"/>"
            ],
            "text/plain": [
              "<IPython.core.display.HTML object>"
            ]
          },
          "metadata": {
            "tags": []
          },
          "execution_count": 36
        }
      ]
    },
    {
      "cell_type": "markdown",
      "metadata": {
        "id": "lnq9Hzo1Po6X"
      },
      "source": [
        "## Next steps\n",
        "\n",
        "This tutorial demonstrated how to implement the actor-critic method using Tensorflow.\n",
        "\n",
        "As a next step, you could try training a model on a different environment in OpenAI Gym. \n",
        "\n",
        "For additional information regarding actor-critic methods and the Cartpole-v0 problem, you may refer to the following resources:\n",
        "\n",
        "- [Actor Critic Method](https://hal.inria.fr/hal-00840470/document)\n",
        "- [Actor Critic Lecture (CAL)](https://www.youtube.com/watch?v=EKqxumCuAAY&list=PLkFD6_40KJIwhWJpGazJ9VSj9CFMkb79A&index=7&t=0s)\n",
        "- [Cartpole learning control problem \\[Barto, et al. 1983\\]](http://www.derongliu.org/adp/adp-cdrom/Barto1983.pdf) \n",
        "\n",
        "For more reinforcement learning examples in TensorFlow, you can check the following resources:\n",
        "- [Reinforcement learning code examples (keras.io)](https://keras.io/examples/rl/)\n",
        "- [TF-Agents reinforcement learning library](https://www.tensorflow.org/agents)\n"
      ]
    }
  ]
}